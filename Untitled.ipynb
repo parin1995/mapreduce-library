{
 "cells": [
  {
   "cell_type": "code",
   "execution_count": 6,
   "metadata": {},
   "outputs": [],
   "source": [
    "import os"
   ]
  },
  {
   "cell_type": "code",
   "execution_count": null,
   "metadata": {},
   "outputs": [],
   "source": []
  },
  {
   "cell_type": "code",
   "execution_count": 7,
   "metadata": {},
   "outputs": [],
   "source": [
    "def compare(mr_file_path, py_file_path):\n",
    "    mr_file = open(mr_file_path)\n",
    "    mr_output_list = []\n",
    "    for line in mr_file:\n",
    "        mr_output_list.append(line)\n",
    "    \n",
    "    py_file = open(py_file_path)\n",
    "    py_output_list = []\n",
    "    for line in py_file:\n",
    "        py_output_list.append(line)\n",
    "    \n",
    "    for line in mr_output_list:\n",
    "        if line not in py_output_list:\n",
    "            return False\n",
    "    return True"
   ]
  },
  {
   "cell_type": "code",
   "execution_count": null,
   "metadata": {},
   "outputs": [],
   "source": []
  },
  {
   "cell_type": "code",
   "execution_count": 8,
   "metadata": {},
   "outputs": [
    {
     "data": {
      "text/plain": [
       "0"
      ]
     },
     "execution_count": 8,
     "metadata": {},
     "output_type": "execute_result"
    }
   ],
   "source": [
    "os.system(\"javac -cp src/ src/Main.java src/Nodes/Worker.java src/TestCases/*.java\")"
   ]
  },
  {
   "cell_type": "code",
   "execution_count": 9,
   "metadata": {},
   "outputs": [],
   "source": [
    "udfList = [\"WordCount\", \"DistributedGrep\", \"InvertedIndex\"]"
   ]
  },
  {
   "cell_type": "code",
   "execution_count": 10,
   "metadata": {},
   "outputs": [
    {
     "name": "stdout",
     "output_type": "stream",
     "text": [
      "Test Case Failed:  DistributedGrep\n"
     ]
    }
   ],
   "source": [
    "result = True\n",
    "udf_failed = ''\n",
    "for udf in udfList:\n",
    "    f = open(\"resources/config.properties\",\"w\")\n",
    "    f.write(\"N=1\\n\")\n",
    "    f.write(\"input_file_path=data/demo.txt\\n\")\n",
    "    f.write(\"output_file_path=output/output-\" + udf + \".txt\\n\")\n",
    "    f.write(\"udf_class=\"+udf)\n",
    "    f.close()\n",
    "    os.system(\"java -cp src/ Main\")\n",
    "    result &= compare(\"output/output-\" + udf + \".txt\",\"python/\" + udf+\".txt\")\n",
    "    if not result:\n",
    "        udf_failed = udf\n",
    "        break\n",
    "\n",
    "if(result):\n",
    "    print(\"All the Test Cases have passed Successfully\")\n",
    "    print(\"MapReduce Works as Expected!\")\n",
    "else:\n",
    "    print(\"Test Case Failed: \",udf_failed)"
   ]
  },
  {
   "cell_type": "code",
   "execution_count": null,
   "metadata": {},
   "outputs": [],
   "source": []
  }
 ],
 "metadata": {
  "kernelspec": {
   "display_name": "Python 3",
   "language": "python",
   "name": "python3"
  },
  "language_info": {
   "codemirror_mode": {
    "name": "ipython",
    "version": 3
   },
   "file_extension": ".py",
   "mimetype": "text/x-python",
   "name": "python",
   "nbconvert_exporter": "python",
   "pygments_lexer": "ipython3",
   "version": "3.8.5"
  }
 },
 "nbformat": 4,
 "nbformat_minor": 4
}
